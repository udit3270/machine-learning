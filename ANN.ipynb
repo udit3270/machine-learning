{
  "nbformat": 4,
  "nbformat_minor": 0,
  "metadata": {
    "colab": {
      "provenance": [],
      "authorship_tag": "ABX9TyNqhBVW3KHdQ2475jpdYDTF",
      "include_colab_link": true
    },
    "kernelspec": {
      "name": "python3",
      "display_name": "Python 3"
    },
    "language_info": {
      "name": "python"
    }
  },
  "cells": [
    {
      "cell_type": "markdown",
      "metadata": {
        "id": "view-in-github",
        "colab_type": "text"
      },
      "source": [
        "<a href=\"https://colab.research.google.com/github/shrixx18/ML-lab-practicals/blob/main/ml_lab_ANN.ipynb\" target=\"_parent\"><img src=\"https://colab.research.google.com/assets/colab-badge.svg\" alt=\"Open In Colab\"/></a>"
      ]
    },
    {
      "cell_type": "code",
      "execution_count": 1,
      "metadata": {
        "colab": {
          "base_uri": "https://localhost:8080/"
        },
        "id": "15e72pg_X86e",
        "outputId": "80997416-4a8a-43da-d0de-14a10e823967"
      },
      "outputs": [
        {
          "output_type": "stream",
          "name": "stdout",
          "text": [
            "Downloading data from https://storage.googleapis.com/tensorflow/tf-keras-datasets/mnist.npz\n",
            "11490434/11490434 [==============================] - 0s 0us/step\n"
          ]
        }
      ],
      "source": [
        "from keras.datasets import mnist\n",
        "(train_images, train_labels), (test_images, test_labels) = mnist.load_data()"
      ]
    },
    {
      "cell_type": "code",
      "source": [
        "train_images.shape\n",
        "len(train_labels)\n",
        "train_labels\n",
        "test_images.shape\n",
        "len(test_labels)\n",
        "test_labels"
      ],
      "metadata": {
        "colab": {
          "base_uri": "https://localhost:8080/"
        },
        "id": "oB704HNSYSwG",
        "outputId": "0f3af410-2e77-45cf-ae33-70dd17ae684e"
      },
      "execution_count": 2,
      "outputs": [
        {
          "output_type": "execute_result",
          "data": {
            "text/plain": [
              "array([7, 2, 1, ..., 4, 5, 6], dtype=uint8)"
            ]
          },
          "metadata": {},
          "execution_count": 2
        }
      ]
    },
    {
      "cell_type": "code",
      "source": [
        "from keras import models\n",
        "from keras import layers\n",
        "network = models.Sequential()\n",
        "# Dense(32) is a fully-connected layer with 32 hidden units.\n",
        "# in the first layer, you must specify the expected input data shape :\n",
        "# here, 28 X 28=784 -dimensional vectors.\n",
        "network.add(layers.Dense(32, activation='sigmoid', input_shape=(28 * 28, )))\n",
        "network.add(layers.Dense(8, activation='sigmoid'))\n",
        "network.add(layers.Dense(10, activation='softmax'))\n",
        "network.summary()\n",
        "from google.colab import drive\n",
        "drive.mount('/content/drive')"
      ],
      "metadata": {
        "colab": {
          "base_uri": "https://localhost:8080/"
        },
        "id": "yad20yMzYaxP",
        "outputId": "efb0bb28-4bd2-4821-fb64-52c445bf9e46"
      },
      "execution_count": 4,
      "outputs": [
        {
          "output_type": "stream",
          "name": "stdout",
          "text": [
            "Model: \"sequential_1\"\n",
            "_________________________________________________________________\n",
            " Layer (type)                Output Shape              Param #   \n",
            "=================================================================\n",
            " dense_3 (Dense)             (None, 32)                25120     \n",
            "                                                                 \n",
            " dense_4 (Dense)             (None, 8)                 264       \n",
            "                                                                 \n",
            " dense_5 (Dense)             (None, 10)                90        \n",
            "                                                                 \n",
            "=================================================================\n",
            "Total params: 25474 (99.51 KB)\n",
            "Trainable params: 25474 (99.51 KB)\n",
            "Non-trainable params: 0 (0.00 Byte)\n",
            "_________________________________________________________________\n",
            "Mounted at /content/drive\n"
          ]
        }
      ]
    },
    {
      "cell_type": "code",
      "source": [
        "network.compile(optimizer='sgd',\n",
        "                loss='categorical_crossentropy',\n",
        "                metrics=['accuracy'])"
      ],
      "metadata": {
        "id": "ckMcTP9rZS0W"
      },
      "execution_count": 5,
      "outputs": []
    },
    {
      "cell_type": "code",
      "source": [
        "train_images = train_images.reshape((60000, 28 * 28))\n",
        "train_images = train_images.astype('float32') / 255.\n",
        "test_images = test_images.reshape((10000, 28 * 28))\n",
        "test_images = test_images.astype('float32') / 255."
      ],
      "metadata": {
        "id": "kIsTvJyzZY9N"
      },
      "execution_count": 6,
      "outputs": []
    },
    {
      "cell_type": "code",
      "source": [
        "from keras.utils import to_categorical\n",
        "train_labels = to_categorical(train_labels)\n",
        "train_labels\n",
        "test_labels = to_categorical(test_labels)\n",
        "test_labels"
      ],
      "metadata": {
        "colab": {
          "base_uri": "https://localhost:8080/"
        },
        "id": "auCDitkFZcY9",
        "outputId": "8813a501-974f-4c58-999d-662b548a72a0"
      },
      "execution_count": 7,
      "outputs": [
        {
          "output_type": "execute_result",
          "data": {
            "text/plain": [
              "array([[0., 0., 0., ..., 1., 0., 0.],\n",
              "       [0., 0., 1., ..., 0., 0., 0.],\n",
              "       [0., 1., 0., ..., 0., 0., 0.],\n",
              "       ...,\n",
              "       [0., 0., 0., ..., 0., 0., 0.],\n",
              "       [0., 0., 0., ..., 0., 0., 0.],\n",
              "       [0., 0., 0., ..., 0., 0., 0.]], dtype=float32)"
            ]
          },
          "metadata": {},
          "execution_count": 7
        }
      ]
    },
    {
      "cell_type": "code",
      "source": [
        "network.fit(train_images, train_labels, epochs=160, batch_size=512)"
      ],
      "metadata": {
        "colab": {
          "base_uri": "https://localhost:8080/"
        },
        "id": "AwwXACViZgQV",
        "outputId": "1c829f56-a4ad-4e59-df82-95396570d65d"
      },
      "execution_count": 8,
      "outputs": [
        {
          "output_type": "stream",
          "name": "stdout",
          "text": [
            "Epoch 1/160\n",
            "118/118 [==============================] - 2s 9ms/step - loss: 2.3294 - accuracy: 0.0821\n",
            "Epoch 2/160\n",
            "118/118 [==============================] - 1s 7ms/step - loss: 2.3080 - accuracy: 0.1062\n",
            "Epoch 3/160\n",
            "118/118 [==============================] - 1s 6ms/step - loss: 2.2958 - accuracy: 0.1146\n",
            "Epoch 4/160\n",
            "118/118 [==============================] - 1s 6ms/step - loss: 2.2874 - accuracy: 0.1135\n",
            "Epoch 5/160\n",
            "118/118 [==============================] - 1s 6ms/step - loss: 2.2805 - accuracy: 0.1145\n",
            "Epoch 6/160\n",
            "118/118 [==============================] - 1s 6ms/step - loss: 2.2741 - accuracy: 0.1159\n",
            "Epoch 7/160\n",
            "118/118 [==============================] - 1s 6ms/step - loss: 2.2679 - accuracy: 0.1199\n",
            "Epoch 8/160\n",
            "118/118 [==============================] - 1s 6ms/step - loss: 2.2616 - accuracy: 0.1370\n",
            "Epoch 9/160\n",
            "118/118 [==============================] - 1s 6ms/step - loss: 2.2550 - accuracy: 0.1651\n",
            "Epoch 10/160\n",
            "118/118 [==============================] - 1s 6ms/step - loss: 2.2481 - accuracy: 0.1929\n",
            "Epoch 11/160\n",
            "118/118 [==============================] - 1s 6ms/step - loss: 2.2408 - accuracy: 0.2399\n",
            "Epoch 12/160\n",
            "118/118 [==============================] - 1s 6ms/step - loss: 2.2330 - accuracy: 0.2614\n",
            "Epoch 13/160\n",
            "118/118 [==============================] - 1s 6ms/step - loss: 2.2247 - accuracy: 0.2894\n",
            "Epoch 14/160\n",
            "118/118 [==============================] - 1s 6ms/step - loss: 2.2158 - accuracy: 0.3117\n",
            "Epoch 15/160\n",
            "118/118 [==============================] - 1s 6ms/step - loss: 2.2064 - accuracy: 0.3366\n",
            "Epoch 16/160\n",
            "118/118 [==============================] - 1s 9ms/step - loss: 2.1963 - accuracy: 0.3437\n",
            "Epoch 17/160\n",
            "118/118 [==============================] - 1s 9ms/step - loss: 2.1855 - accuracy: 0.3578\n",
            "Epoch 18/160\n",
            "118/118 [==============================] - 1s 9ms/step - loss: 2.1740 - accuracy: 0.3671\n",
            "Epoch 19/160\n",
            "118/118 [==============================] - 1s 8ms/step - loss: 2.1617 - accuracy: 0.3802\n",
            "Epoch 20/160\n",
            "118/118 [==============================] - 1s 6ms/step - loss: 2.1487 - accuracy: 0.3886\n",
            "Epoch 21/160\n",
            "118/118 [==============================] - 1s 6ms/step - loss: 2.1349 - accuracy: 0.3936\n",
            "Epoch 22/160\n",
            "118/118 [==============================] - 1s 6ms/step - loss: 2.1203 - accuracy: 0.4011\n",
            "Epoch 23/160\n",
            "118/118 [==============================] - 1s 6ms/step - loss: 2.1050 - accuracy: 0.4093\n",
            "Epoch 24/160\n",
            "118/118 [==============================] - 1s 6ms/step - loss: 2.0889 - accuracy: 0.4120\n",
            "Epoch 25/160\n",
            "118/118 [==============================] - 1s 6ms/step - loss: 2.0722 - accuracy: 0.4170\n",
            "Epoch 26/160\n",
            "118/118 [==============================] - 1s 6ms/step - loss: 2.0548 - accuracy: 0.4235\n",
            "Epoch 27/160\n",
            "118/118 [==============================] - 1s 6ms/step - loss: 2.0369 - accuracy: 0.4299\n",
            "Epoch 28/160\n",
            "118/118 [==============================] - 1s 6ms/step - loss: 2.0186 - accuracy: 0.4331\n",
            "Epoch 29/160\n",
            "118/118 [==============================] - 1s 6ms/step - loss: 1.9998 - accuracy: 0.4370\n",
            "Epoch 30/160\n",
            "118/118 [==============================] - 1s 6ms/step - loss: 1.9809 - accuracy: 0.4421\n",
            "Epoch 31/160\n",
            "118/118 [==============================] - 1s 6ms/step - loss: 1.9617 - accuracy: 0.4439\n",
            "Epoch 32/160\n",
            "118/118 [==============================] - 1s 7ms/step - loss: 1.9425 - accuracy: 0.4500\n",
            "Epoch 33/160\n",
            "118/118 [==============================] - 1s 8ms/step - loss: 1.9232 - accuracy: 0.4531\n",
            "Epoch 34/160\n",
            "118/118 [==============================] - 1s 9ms/step - loss: 1.9040 - accuracy: 0.4584\n",
            "Epoch 35/160\n",
            "118/118 [==============================] - 1s 9ms/step - loss: 1.8849 - accuracy: 0.4644\n",
            "Epoch 36/160\n",
            "118/118 [==============================] - 1s 10ms/step - loss: 1.8659 - accuracy: 0.4685\n",
            "Epoch 37/160\n",
            "118/118 [==============================] - 1s 7ms/step - loss: 1.8471 - accuracy: 0.4746\n",
            "Epoch 38/160\n",
            "118/118 [==============================] - 1s 6ms/step - loss: 1.8284 - accuracy: 0.4814\n",
            "Epoch 39/160\n",
            "118/118 [==============================] - 1s 6ms/step - loss: 1.8099 - accuracy: 0.4874\n",
            "Epoch 40/160\n",
            "118/118 [==============================] - 1s 6ms/step - loss: 1.7916 - accuracy: 0.4935\n",
            "Epoch 41/160\n",
            "118/118 [==============================] - 1s 6ms/step - loss: 1.7734 - accuracy: 0.4996\n",
            "Epoch 42/160\n",
            "118/118 [==============================] - 1s 6ms/step - loss: 1.7553 - accuracy: 0.5061\n",
            "Epoch 43/160\n",
            "118/118 [==============================] - 1s 6ms/step - loss: 1.7374 - accuracy: 0.5119\n",
            "Epoch 44/160\n",
            "118/118 [==============================] - 1s 7ms/step - loss: 1.7196 - accuracy: 0.5180\n",
            "Epoch 45/160\n",
            "118/118 [==============================] - 1s 7ms/step - loss: 1.7020 - accuracy: 0.5230\n",
            "Epoch 46/160\n",
            "118/118 [==============================] - 1s 6ms/step - loss: 1.6844 - accuracy: 0.5282\n",
            "Epoch 47/160\n",
            "118/118 [==============================] - 1s 7ms/step - loss: 1.6670 - accuracy: 0.5344\n",
            "Epoch 48/160\n",
            "118/118 [==============================] - 1s 6ms/step - loss: 1.6497 - accuracy: 0.5402\n",
            "Epoch 49/160\n",
            "118/118 [==============================] - 1s 6ms/step - loss: 1.6325 - accuracy: 0.5454\n",
            "Epoch 50/160\n",
            "118/118 [==============================] - 1s 7ms/step - loss: 1.6155 - accuracy: 0.5502\n",
            "Epoch 51/160\n",
            "118/118 [==============================] - 1s 9ms/step - loss: 1.5985 - accuracy: 0.5559\n",
            "Epoch 52/160\n",
            "118/118 [==============================] - 1s 9ms/step - loss: 1.5818 - accuracy: 0.5607\n",
            "Epoch 53/160\n",
            "118/118 [==============================] - 1s 12ms/step - loss: 1.5651 - accuracy: 0.5648\n",
            "Epoch 54/160\n",
            "118/118 [==============================] - 1s 9ms/step - loss: 1.5487 - accuracy: 0.5694\n",
            "Epoch 55/160\n",
            "118/118 [==============================] - 1s 6ms/step - loss: 1.5325 - accuracy: 0.5740\n",
            "Epoch 56/160\n",
            "118/118 [==============================] - 1s 6ms/step - loss: 1.5164 - accuracy: 0.5781\n",
            "Epoch 57/160\n",
            "118/118 [==============================] - 1s 6ms/step - loss: 1.5006 - accuracy: 0.5829\n",
            "Epoch 58/160\n",
            "118/118 [==============================] - 1s 6ms/step - loss: 1.4850 - accuracy: 0.5875\n",
            "Epoch 59/160\n",
            "118/118 [==============================] - 1s 6ms/step - loss: 1.4696 - accuracy: 0.5928\n",
            "Epoch 60/160\n",
            "118/118 [==============================] - 1s 6ms/step - loss: 1.4544 - accuracy: 0.5984\n",
            "Epoch 61/160\n",
            "118/118 [==============================] - 1s 7ms/step - loss: 1.4395 - accuracy: 0.6030\n",
            "Epoch 62/160\n",
            "118/118 [==============================] - 1s 6ms/step - loss: 1.4248 - accuracy: 0.6087\n",
            "Epoch 63/160\n",
            "118/118 [==============================] - 1s 6ms/step - loss: 1.4103 - accuracy: 0.6141\n",
            "Epoch 64/160\n",
            "118/118 [==============================] - 1s 6ms/step - loss: 1.3961 - accuracy: 0.6188\n",
            "Epoch 65/160\n",
            "118/118 [==============================] - 1s 6ms/step - loss: 1.3821 - accuracy: 0.6237\n",
            "Epoch 66/160\n",
            "118/118 [==============================] - 1s 6ms/step - loss: 1.3683 - accuracy: 0.6288\n",
            "Epoch 67/160\n",
            "118/118 [==============================] - 1s 6ms/step - loss: 1.3547 - accuracy: 0.6330\n",
            "Epoch 68/160\n",
            "118/118 [==============================] - 1s 8ms/step - loss: 1.3413 - accuracy: 0.6376\n",
            "Epoch 69/160\n",
            "118/118 [==============================] - 1s 9ms/step - loss: 1.3280 - accuracy: 0.6425\n",
            "Epoch 70/160\n",
            "118/118 [==============================] - 1s 9ms/step - loss: 1.3149 - accuracy: 0.6474\n",
            "Epoch 71/160\n",
            "118/118 [==============================] - 1s 9ms/step - loss: 1.3020 - accuracy: 0.6523\n",
            "Epoch 72/160\n",
            "118/118 [==============================] - 1s 8ms/step - loss: 1.2892 - accuracy: 0.6561\n",
            "Epoch 73/160\n",
            "118/118 [==============================] - 1s 6ms/step - loss: 1.2766 - accuracy: 0.6607\n",
            "Epoch 74/160\n",
            "118/118 [==============================] - 1s 6ms/step - loss: 1.2640 - accuracy: 0.6651\n",
            "Epoch 75/160\n",
            "118/118 [==============================] - 1s 6ms/step - loss: 1.2516 - accuracy: 0.6694\n",
            "Epoch 76/160\n",
            "118/118 [==============================] - 1s 6ms/step - loss: 1.2393 - accuracy: 0.6742\n",
            "Epoch 77/160\n",
            "118/118 [==============================] - 1s 6ms/step - loss: 1.2271 - accuracy: 0.6783\n",
            "Epoch 78/160\n",
            "118/118 [==============================] - 1s 6ms/step - loss: 1.2150 - accuracy: 0.6833\n",
            "Epoch 79/160\n",
            "118/118 [==============================] - 1s 6ms/step - loss: 1.2031 - accuracy: 0.6869\n",
            "Epoch 80/160\n",
            "118/118 [==============================] - 1s 6ms/step - loss: 1.1912 - accuracy: 0.6913\n",
            "Epoch 81/160\n",
            "118/118 [==============================] - 1s 6ms/step - loss: 1.1794 - accuracy: 0.6949\n",
            "Epoch 82/160\n",
            "118/118 [==============================] - 1s 6ms/step - loss: 1.1678 - accuracy: 0.6993\n",
            "Epoch 83/160\n",
            "118/118 [==============================] - 1s 6ms/step - loss: 1.1562 - accuracy: 0.7034\n",
            "Epoch 84/160\n",
            "118/118 [==============================] - 1s 6ms/step - loss: 1.1447 - accuracy: 0.7072\n",
            "Epoch 85/160\n",
            "118/118 [==============================] - 1s 6ms/step - loss: 1.1334 - accuracy: 0.7111\n",
            "Epoch 86/160\n",
            "118/118 [==============================] - 1s 8ms/step - loss: 1.1221 - accuracy: 0.7141\n",
            "Epoch 87/160\n",
            "118/118 [==============================] - 1s 9ms/step - loss: 1.1110 - accuracy: 0.7175\n",
            "Epoch 88/160\n",
            "118/118 [==============================] - 1s 9ms/step - loss: 1.1000 - accuracy: 0.7208\n",
            "Epoch 89/160\n",
            "118/118 [==============================] - 1s 9ms/step - loss: 1.0891 - accuracy: 0.7244\n",
            "Epoch 90/160\n",
            "118/118 [==============================] - 1s 7ms/step - loss: 1.0784 - accuracy: 0.7272\n",
            "Epoch 91/160\n",
            "118/118 [==============================] - 1s 6ms/step - loss: 1.0678 - accuracy: 0.7303\n",
            "Epoch 92/160\n",
            "118/118 [==============================] - 1s 6ms/step - loss: 1.0573 - accuracy: 0.7329\n",
            "Epoch 93/160\n",
            "118/118 [==============================] - 1s 6ms/step - loss: 1.0469 - accuracy: 0.7361\n",
            "Epoch 94/160\n",
            "118/118 [==============================] - 1s 6ms/step - loss: 1.0367 - accuracy: 0.7385\n",
            "Epoch 95/160\n",
            "118/118 [==============================] - 1s 6ms/step - loss: 1.0267 - accuracy: 0.7418\n",
            "Epoch 96/160\n",
            "118/118 [==============================] - 1s 6ms/step - loss: 1.0167 - accuracy: 0.7440\n",
            "Epoch 97/160\n",
            "118/118 [==============================] - 1s 6ms/step - loss: 1.0070 - accuracy: 0.7463\n",
            "Epoch 98/160\n",
            "118/118 [==============================] - 1s 6ms/step - loss: 0.9974 - accuracy: 0.7486\n",
            "Epoch 99/160\n",
            "118/118 [==============================] - 1s 6ms/step - loss: 0.9879 - accuracy: 0.7512\n",
            "Epoch 100/160\n",
            "118/118 [==============================] - 1s 6ms/step - loss: 0.9786 - accuracy: 0.7533\n",
            "Epoch 101/160\n",
            "118/118 [==============================] - 1s 6ms/step - loss: 0.9694 - accuracy: 0.7556\n",
            "Epoch 102/160\n",
            "118/118 [==============================] - 1s 6ms/step - loss: 0.9604 - accuracy: 0.7582\n",
            "Epoch 103/160\n",
            "118/118 [==============================] - 1s 7ms/step - loss: 0.9515 - accuracy: 0.7603\n",
            "Epoch 104/160\n",
            "118/118 [==============================] - 1s 12ms/step - loss: 0.9428 - accuracy: 0.7627\n",
            "Epoch 105/160\n",
            "118/118 [==============================] - 1s 9ms/step - loss: 0.9343 - accuracy: 0.7645\n",
            "Epoch 106/160\n",
            "118/118 [==============================] - 1s 9ms/step - loss: 0.9259 - accuracy: 0.7664\n",
            "Epoch 107/160\n",
            "118/118 [==============================] - 1s 8ms/step - loss: 0.9176 - accuracy: 0.7685\n",
            "Epoch 108/160\n",
            "118/118 [==============================] - 1s 6ms/step - loss: 0.9095 - accuracy: 0.7705\n",
            "Epoch 109/160\n",
            "118/118 [==============================] - 1s 6ms/step - loss: 0.9016 - accuracy: 0.7724\n",
            "Epoch 110/160\n",
            "118/118 [==============================] - 1s 6ms/step - loss: 0.8938 - accuracy: 0.7742\n",
            "Epoch 111/160\n",
            "118/118 [==============================] - 1s 7ms/step - loss: 0.8861 - accuracy: 0.7761\n",
            "Epoch 112/160\n",
            "118/118 [==============================] - 1s 6ms/step - loss: 0.8786 - accuracy: 0.7783\n",
            "Epoch 113/160\n",
            "118/118 [==============================] - 1s 6ms/step - loss: 0.8712 - accuracy: 0.7803\n",
            "Epoch 114/160\n",
            "118/118 [==============================] - 1s 6ms/step - loss: 0.8639 - accuracy: 0.7817\n",
            "Epoch 115/160\n",
            "118/118 [==============================] - 1s 7ms/step - loss: 0.8568 - accuracy: 0.7841\n",
            "Epoch 116/160\n",
            "118/118 [==============================] - 1s 6ms/step - loss: 0.8498 - accuracy: 0.7859\n",
            "Epoch 117/160\n",
            "118/118 [==============================] - 1s 7ms/step - loss: 0.8429 - accuracy: 0.7877\n",
            "Epoch 118/160\n",
            "118/118 [==============================] - 1s 7ms/step - loss: 0.8361 - accuracy: 0.7897\n",
            "Epoch 119/160\n",
            "118/118 [==============================] - 1s 7ms/step - loss: 0.8295 - accuracy: 0.7915\n",
            "Epoch 120/160\n",
            "118/118 [==============================] - 1s 8ms/step - loss: 0.8230 - accuracy: 0.7930\n",
            "Epoch 121/160\n",
            "118/118 [==============================] - 1s 9ms/step - loss: 0.8166 - accuracy: 0.7949\n",
            "Epoch 122/160\n",
            "118/118 [==============================] - 1s 9ms/step - loss: 0.8103 - accuracy: 0.7965\n",
            "Epoch 123/160\n",
            "118/118 [==============================] - 1s 9ms/step - loss: 0.8042 - accuracy: 0.7980\n",
            "Epoch 124/160\n",
            "118/118 [==============================] - 1s 7ms/step - loss: 0.7981 - accuracy: 0.8002\n",
            "Epoch 125/160\n",
            "118/118 [==============================] - 1s 6ms/step - loss: 0.7922 - accuracy: 0.8013\n",
            "Epoch 126/160\n",
            "118/118 [==============================] - 1s 6ms/step - loss: 0.7863 - accuracy: 0.8028\n",
            "Epoch 127/160\n",
            "118/118 [==============================] - 1s 6ms/step - loss: 0.7806 - accuracy: 0.8045\n",
            "Epoch 128/160\n",
            "118/118 [==============================] - 1s 6ms/step - loss: 0.7750 - accuracy: 0.8061\n",
            "Epoch 129/160\n",
            "118/118 [==============================] - 1s 6ms/step - loss: 0.7694 - accuracy: 0.8073\n",
            "Epoch 130/160\n",
            "118/118 [==============================] - 1s 6ms/step - loss: 0.7640 - accuracy: 0.8085\n",
            "Epoch 131/160\n",
            "118/118 [==============================] - 1s 6ms/step - loss: 0.7586 - accuracy: 0.8101\n",
            "Epoch 132/160\n",
            "118/118 [==============================] - 1s 6ms/step - loss: 0.7534 - accuracy: 0.8116\n",
            "Epoch 133/160\n",
            "118/118 [==============================] - 1s 8ms/step - loss: 0.7482 - accuracy: 0.8130\n",
            "Epoch 134/160\n",
            "118/118 [==============================] - 1s 7ms/step - loss: 0.7431 - accuracy: 0.8142\n",
            "Epoch 135/160\n",
            "118/118 [==============================] - 1s 8ms/step - loss: 0.7381 - accuracy: 0.8156\n",
            "Epoch 136/160\n",
            "118/118 [==============================] - 1s 6ms/step - loss: 0.7332 - accuracy: 0.8169\n",
            "Epoch 137/160\n",
            "118/118 [==============================] - 1s 8ms/step - loss: 0.7284 - accuracy: 0.8181\n",
            "Epoch 138/160\n",
            "118/118 [==============================] - 1s 9ms/step - loss: 0.7236 - accuracy: 0.8199\n",
            "Epoch 139/160\n",
            "118/118 [==============================] - 1s 9ms/step - loss: 0.7189 - accuracy: 0.8210\n",
            "Epoch 140/160\n",
            "118/118 [==============================] - 1s 9ms/step - loss: 0.7143 - accuracy: 0.8217\n",
            "Epoch 141/160\n",
            "118/118 [==============================] - 1s 7ms/step - loss: 0.7098 - accuracy: 0.8232\n",
            "Epoch 142/160\n",
            "118/118 [==============================] - 1s 6ms/step - loss: 0.7053 - accuracy: 0.8243\n",
            "Epoch 143/160\n",
            "118/118 [==============================] - 1s 7ms/step - loss: 0.7010 - accuracy: 0.8255\n",
            "Epoch 144/160\n",
            "118/118 [==============================] - 1s 6ms/step - loss: 0.6966 - accuracy: 0.8267\n",
            "Epoch 145/160\n",
            "118/118 [==============================] - 1s 6ms/step - loss: 0.6924 - accuracy: 0.8277\n",
            "Epoch 146/160\n",
            "118/118 [==============================] - 1s 6ms/step - loss: 0.6882 - accuracy: 0.8287\n",
            "Epoch 147/160\n",
            "118/118 [==============================] - 1s 6ms/step - loss: 0.6841 - accuracy: 0.8297\n",
            "Epoch 148/160\n",
            "118/118 [==============================] - 1s 6ms/step - loss: 0.6800 - accuracy: 0.8309\n",
            "Epoch 149/160\n",
            "118/118 [==============================] - 1s 6ms/step - loss: 0.6760 - accuracy: 0.8320\n",
            "Epoch 150/160\n",
            "118/118 [==============================] - 1s 6ms/step - loss: 0.6721 - accuracy: 0.8329\n",
            "Epoch 151/160\n",
            "118/118 [==============================] - 1s 6ms/step - loss: 0.6682 - accuracy: 0.8338\n",
            "Epoch 152/160\n",
            "118/118 [==============================] - 1s 6ms/step - loss: 0.6644 - accuracy: 0.8347\n",
            "Epoch 153/160\n",
            "118/118 [==============================] - 1s 7ms/step - loss: 0.6607 - accuracy: 0.8355\n",
            "Epoch 154/160\n",
            "118/118 [==============================] - 1s 8ms/step - loss: 0.6569 - accuracy: 0.8362\n",
            "Epoch 155/160\n",
            "118/118 [==============================] - 1s 9ms/step - loss: 0.6533 - accuracy: 0.8370\n",
            "Epoch 156/160\n",
            "118/118 [==============================] - 1s 9ms/step - loss: 0.6497 - accuracy: 0.8380\n",
            "Epoch 157/160\n",
            "118/118 [==============================] - 1s 9ms/step - loss: 0.6461 - accuracy: 0.8391\n",
            "Epoch 158/160\n",
            "118/118 [==============================] - 1s 9ms/step - loss: 0.6426 - accuracy: 0.8398\n",
            "Epoch 159/160\n",
            "118/118 [==============================] - 1s 6ms/step - loss: 0.6392 - accuracy: 0.8410\n",
            "Epoch 160/160\n",
            "118/118 [==============================] - 1s 6ms/step - loss: 0.6358 - accuracy: 0.8420\n"
          ]
        },
        {
          "output_type": "execute_result",
          "data": {
            "text/plain": [
              "<keras.src.callbacks.History at 0x7d6274124df0>"
            ]
          },
          "metadata": {},
          "execution_count": 8
        }
      ]
    },
    {
      "cell_type": "code",
      "source": [
        "test_loss, test_acc = network.evaluate(test_images, test_labels)\n",
        "print('Test Accuracy: {:.5f} '.format(test_acc))\n",
        "test_acc"
      ],
      "metadata": {
        "colab": {
          "base_uri": "https://localhost:8080/"
        },
        "id": "zSJ7_ngCaRZF",
        "outputId": "90ccf417-8523-48d4-8ffd-d8d848a1cc38"
      },
      "execution_count": 9,
      "outputs": [
        {
          "output_type": "stream",
          "name": "stdout",
          "text": [
            "313/313 [==============================] - 1s 2ms/step - loss: 0.6177 - accuracy: 0.8502\n",
            "Test Accuracy: 0.85020 \n"
          ]
        },
        {
          "output_type": "execute_result",
          "data": {
            "text/plain": [
              "0.8501999974250793"
            ]
          },
          "metadata": {},
          "execution_count": 9
        }
      ]
    },
    {
      "cell_type": "code",
      "source": [
        "from keras.utils import plot_model\n",
        "plot_model(network, to_file='model.png')\n",
        "import matplotlib.pyplot as plt\n",
        "history =network.fit(train_images, train_labels, validation_split=0.33,epochs=5, batch_size=512)\n",
        "history_dict = history.history\n",
        "print(history_dict.keys())\n",
        "plt.plot(history.history['accuracy'])\n",
        "plt.plot(history.history['val_accuracy'])\n",
        "plt.title('Model accuracy')\n",
        "plt.ylabel('Accuracy')\n",
        "plt.xlabel('Epoch')\n",
        "plt.legend(['Train', 'Test'], loc='upper left')\n",
        "plt.show()\n",
        "\n",
        "\n",
        "# Plot training & validation loss values\n",
        "plt.plot(history.history['loss'])\n",
        "plt.plot(history.history['val_loss'])\n",
        "plt.title('Model loss')\n",
        "plt.ylabel('Loss')\n",
        "plt.xlabel('Epoch')\n",
        "plt.legend(['Train', 'Test'], loc='upper left')\n",
        "plt.show()"
      ],
      "metadata": {
        "colab": {
          "base_uri": "https://localhost:8080/",
          "height": 1000
        },
        "id": "9v7FsOlsaVgN",
        "outputId": "e2ef776f-aeef-4eac-dabe-8796cfb05150"
      },
      "execution_count": 10,
      "outputs": [
        {
          "output_type": "stream",
          "name": "stdout",
          "text": [
            "Epoch 1/5\n",
            "79/79 [==============================] - 2s 31ms/step - loss: 0.6369 - accuracy: 0.8410 - val_loss: 0.6238 - val_accuracy: 0.8456\n",
            "Epoch 2/5\n",
            "79/79 [==============================] - 1s 14ms/step - loss: 0.6346 - accuracy: 0.8413 - val_loss: 0.6217 - val_accuracy: 0.8462\n",
            "Epoch 3/5\n",
            "79/79 [==============================] - 1s 15ms/step - loss: 0.6324 - accuracy: 0.8420 - val_loss: 0.6196 - val_accuracy: 0.8463\n",
            "Epoch 4/5\n",
            "79/79 [==============================] - 1s 17ms/step - loss: 0.6301 - accuracy: 0.8427 - val_loss: 0.6176 - val_accuracy: 0.8467\n",
            "Epoch 5/5\n",
            "79/79 [==============================] - 1s 14ms/step - loss: 0.6279 - accuracy: 0.8434 - val_loss: 0.6155 - val_accuracy: 0.8472\n",
            "dict_keys(['loss', 'accuracy', 'val_loss', 'val_accuracy'])\n"
          ]
        },
        {
          "output_type": "display_data",
          "data": {
            "text/plain": [
              "<Figure size 640x480 with 1 Axes>"
            ],
            "image/png": "[encoded data removed]"
          },
          "metadata": {}
        },
        {
          "output_type": "display_data",
          "data": {
            "text/plain": [
              "<Figure size 640x480 with 1 Axes>"
            ],
            "image/png": "[encoded data removed]"
          },
          "metadata": {}
        }
      ]
    }
  ]
}
